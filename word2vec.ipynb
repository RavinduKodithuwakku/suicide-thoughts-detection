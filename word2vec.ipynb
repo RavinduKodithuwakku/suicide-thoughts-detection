{
  "nbformat": 4,
  "nbformat_minor": 0,
  "metadata": {
    "colab": {
      "provenance": [],
      "authorship_tag": "ABX9TyMIxIvdNB7mF2na6NF6WEHS",
      "include_colab_link": true
    },
    "kernelspec": {
      "name": "python3",
      "display_name": "Python 3"
    },
    "language_info": {
      "name": "python"
    }
  },
  "cells": [
    {
      "cell_type": "markdown",
      "metadata": {
        "id": "view-in-github",
        "colab_type": "text"
      },
      "source": [
        "<a href=\"https://colab.research.google.com/github/RavinduKodithuwakku/suicide-thoughts-detection/blob/dev/word2vec.ipynb\" target=\"_parent\"><img src=\"https://colab.research.google.com/assets/colab-badge.svg\" alt=\"Open In Colab\"/></a>"
      ]
    },
    {
      "cell_type": "code",
      "source": [
        "from google.colab import drive\n",
        "drive.mount('/content/drive', force_remount=True)"
      ],
      "metadata": {
        "colab": {
          "base_uri": "https://localhost:8080/"
        },
        "id": "ZEStEPyitl-l",
        "outputId": "0c563aff-1a42-432a-ddee-65939e023db3"
      },
      "execution_count": 1,
      "outputs": [
        {
          "output_type": "stream",
          "name": "stdout",
          "text": [
            "Mounted at /content/drive\n"
          ]
        }
      ]
    },
    {
      "cell_type": "code",
      "source": [
        "import pandas as pd\n",
        "import numpy as np\n",
        "import os\n",
        "\n",
        "from sklearn.model_selection import train_test_split\n",
        "from gensim.models import Word2Vec\n",
        "from time import time\n",
        "from collections import Counter"
      ],
      "metadata": {
        "id": "W4yhi2Xqtq0N"
      },
      "execution_count": 2,
      "outputs": []
    },
    {
      "cell_type": "code",
      "source": [
        "SEED = 4222\n",
        "EPOCHS = 5"
      ],
      "metadata": {
        "id": "4ZSWLwl5tuPT"
      },
      "execution_count": 3,
      "outputs": []
    },
    {
      "cell_type": "code",
      "source": [
        "# Load dataset and reset index\n",
        "suicide_detection_df = pd.read_csv('/content/drive/MyDrive/fyp/dataset/suicide_detection_final_cleaned.csv', header=0)\n",
        "suicide_detection_df.reset_index(drop=True, inplace=True)\n",
        "suicide_detection_df.replace({\"class\": {\"suicide\": 1, \"non-suicide\": 0}}, inplace=True)\n",
        "suicide_detection_df.drop(columns=['text'], inplace=True)\n",
        "suicide_detection_df = suicide_detection_df.rename(columns={\"cleaned_text\": \"text\"})\n",
        "suicide_detection_df"
      ],
      "metadata": {
        "colab": {
          "base_uri": "https://localhost:8080/",
          "height": 424
        },
        "id": "x0GlBW8dt6ls",
        "outputId": "ec969b3b-de61-416a-e682-22692573efc7"
      },
      "execution_count": 4,
      "outputs": [
        {
          "output_type": "execute_result",
          "data": {
            "text/plain": [
              "        class                                               text\n",
              "0           1  sex wife threaten suicide recently leave wife ...\n",
              "1           0  weird not affect compliment come know girl fee...\n",
              "2           0      finally hear bad year swear fuck god annoying\n",
              "3           1                            need help help cry hard\n",
              "4           1                       end tonight not anymore quit\n",
              "...       ...                                                ...\n",
              "175969      0  today go sled friend not like pretty big miles...\n",
              "175970      0                               not like rock not go\n",
              "175971      0  tell friend not lonely deprive buy little nigh...\n",
              "175972      0  pee probably taste like salty tea drink pee co...\n",
              "175973      0  not beat boss hollow knight fight time die ear...\n",
              "\n",
              "[175974 rows x 2 columns]"
            ],
            "text/html": [
              "\n",
              "  <div id=\"df-caf74dad-55d4-42e4-9077-444af8e6d11f\">\n",
              "    <div class=\"colab-df-container\">\n",
              "      <div>\n",
              "<style scoped>\n",
              "    .dataframe tbody tr th:only-of-type {\n",
              "        vertical-align: middle;\n",
              "    }\n",
              "\n",
              "    .dataframe tbody tr th {\n",
              "        vertical-align: top;\n",
              "    }\n",
              "\n",
              "    .dataframe thead th {\n",
              "        text-align: right;\n",
              "    }\n",
              "</style>\n",
              "<table border=\"1\" class=\"dataframe\">\n",
              "  <thead>\n",
              "    <tr style=\"text-align: right;\">\n",
              "      <th></th>\n",
              "      <th>class</th>\n",
              "      <th>text</th>\n",
              "    </tr>\n",
              "  </thead>\n",
              "  <tbody>\n",
              "    <tr>\n",
              "      <th>0</th>\n",
              "      <td>1</td>\n",
              "      <td>sex wife threaten suicide recently leave wife ...</td>\n",
              "    </tr>\n",
              "    <tr>\n",
              "      <th>1</th>\n",
              "      <td>0</td>\n",
              "      <td>weird not affect compliment come know girl fee...</td>\n",
              "    </tr>\n",
              "    <tr>\n",
              "      <th>2</th>\n",
              "      <td>0</td>\n",
              "      <td>finally hear bad year swear fuck god annoying</td>\n",
              "    </tr>\n",
              "    <tr>\n",
              "      <th>3</th>\n",
              "      <td>1</td>\n",
              "      <td>need help help cry hard</td>\n",
              "    </tr>\n",
              "    <tr>\n",
              "      <th>4</th>\n",
              "      <td>1</td>\n",
              "      <td>end tonight not anymore quit</td>\n",
              "    </tr>\n",
              "    <tr>\n",
              "      <th>...</th>\n",
              "      <td>...</td>\n",
              "      <td>...</td>\n",
              "    </tr>\n",
              "    <tr>\n",
              "      <th>175969</th>\n",
              "      <td>0</td>\n",
              "      <td>today go sled friend not like pretty big miles...</td>\n",
              "    </tr>\n",
              "    <tr>\n",
              "      <th>175970</th>\n",
              "      <td>0</td>\n",
              "      <td>not like rock not go</td>\n",
              "    </tr>\n",
              "    <tr>\n",
              "      <th>175971</th>\n",
              "      <td>0</td>\n",
              "      <td>tell friend not lonely deprive buy little nigh...</td>\n",
              "    </tr>\n",
              "    <tr>\n",
              "      <th>175972</th>\n",
              "      <td>0</td>\n",
              "      <td>pee probably taste like salty tea drink pee co...</td>\n",
              "    </tr>\n",
              "    <tr>\n",
              "      <th>175973</th>\n",
              "      <td>0</td>\n",
              "      <td>not beat boss hollow knight fight time die ear...</td>\n",
              "    </tr>\n",
              "  </tbody>\n",
              "</table>\n",
              "<p>175974 rows × 2 columns</p>\n",
              "</div>\n",
              "      <button class=\"colab-df-convert\" onclick=\"convertToInteractive('df-caf74dad-55d4-42e4-9077-444af8e6d11f')\"\n",
              "              title=\"Convert this dataframe to an interactive table.\"\n",
              "              style=\"display:none;\">\n",
              "        \n",
              "  <svg xmlns=\"http://www.w3.org/2000/svg\" height=\"24px\"viewBox=\"0 0 24 24\"\n",
              "       width=\"24px\">\n",
              "    <path d=\"M0 0h24v24H0V0z\" fill=\"none\"/>\n",
              "    <path d=\"M18.56 5.44l.94 2.06.94-2.06 2.06-.94-2.06-.94-.94-2.06-.94 2.06-2.06.94zm-11 1L8.5 8.5l.94-2.06 2.06-.94-2.06-.94L8.5 2.5l-.94 2.06-2.06.94zm10 10l.94 2.06.94-2.06 2.06-.94-2.06-.94-.94-2.06-.94 2.06-2.06.94z\"/><path d=\"M17.41 7.96l-1.37-1.37c-.4-.4-.92-.59-1.43-.59-.52 0-1.04.2-1.43.59L10.3 9.45l-7.72 7.72c-.78.78-.78 2.05 0 2.83L4 21.41c.39.39.9.59 1.41.59.51 0 1.02-.2 1.41-.59l7.78-7.78 2.81-2.81c.8-.78.8-2.07 0-2.86zM5.41 20L4 18.59l7.72-7.72 1.47 1.35L5.41 20z\"/>\n",
              "  </svg>\n",
              "      </button>\n",
              "      \n",
              "  <style>\n",
              "    .colab-df-container {\n",
              "      display:flex;\n",
              "      flex-wrap:wrap;\n",
              "      gap: 12px;\n",
              "    }\n",
              "\n",
              "    .colab-df-convert {\n",
              "      background-color: #E8F0FE;\n",
              "      border: none;\n",
              "      border-radius: 50%;\n",
              "      cursor: pointer;\n",
              "      display: none;\n",
              "      fill: #1967D2;\n",
              "      height: 32px;\n",
              "      padding: 0 0 0 0;\n",
              "      width: 32px;\n",
              "    }\n",
              "\n",
              "    .colab-df-convert:hover {\n",
              "      background-color: #E2EBFA;\n",
              "      box-shadow: 0px 1px 2px rgba(60, 64, 67, 0.3), 0px 1px 3px 1px rgba(60, 64, 67, 0.15);\n",
              "      fill: #174EA6;\n",
              "    }\n",
              "\n",
              "    [theme=dark] .colab-df-convert {\n",
              "      background-color: #3B4455;\n",
              "      fill: #D2E3FC;\n",
              "    }\n",
              "\n",
              "    [theme=dark] .colab-df-convert:hover {\n",
              "      background-color: #434B5C;\n",
              "      box-shadow: 0px 1px 3px 1px rgba(0, 0, 0, 0.15);\n",
              "      filter: drop-shadow(0px 1px 2px rgba(0, 0, 0, 0.3));\n",
              "      fill: #FFFFFF;\n",
              "    }\n",
              "  </style>\n",
              "\n",
              "      <script>\n",
              "        const buttonEl =\n",
              "          document.querySelector('#df-caf74dad-55d4-42e4-9077-444af8e6d11f button.colab-df-convert');\n",
              "        buttonEl.style.display =\n",
              "          google.colab.kernel.accessAllowed ? 'block' : 'none';\n",
              "\n",
              "        async function convertToInteractive(key) {\n",
              "          const element = document.querySelector('#df-caf74dad-55d4-42e4-9077-444af8e6d11f');\n",
              "          const dataTable =\n",
              "            await google.colab.kernel.invokeFunction('convertToInteractive',\n",
              "                                                     [key], {});\n",
              "          if (!dataTable) return;\n",
              "\n",
              "          const docLinkHtml = 'Like what you see? Visit the ' +\n",
              "            '<a target=\"_blank\" href=https://colab.research.google.com/notebooks/data_table.ipynb>data table notebook</a>'\n",
              "            + ' to learn more about interactive tables.';\n",
              "          element.innerHTML = '';\n",
              "          dataTable['output_type'] = 'display_data';\n",
              "          await google.colab.output.renderOutput(dataTable, element);\n",
              "          const docLink = document.createElement('div');\n",
              "          docLink.innerHTML = docLinkHtml;\n",
              "          element.appendChild(docLink);\n",
              "        }\n",
              "      </script>\n",
              "    </div>\n",
              "  </div>\n",
              "  "
            ]
          },
          "metadata": {},
          "execution_count": 4
        }
      ]
    },
    {
      "cell_type": "code",
      "source": [
        "# Split dataset into train, validation and test sets\n",
        "train_text, test_text, train_labels, test_labels = train_test_split(suicide_detection_df['text'], suicide_detection_df['class'],\n",
        "                                                                    random_state=SEED,\n",
        "                                                                    test_size=0.2,\n",
        "                                                                    stratify=suicide_detection_df['class'])"
      ],
      "metadata": {
        "id": "UHJyC6V-ueF2"
      },
      "execution_count": 5,
      "outputs": []
    },
    {
      "cell_type": "markdown",
      "source": [
        "word2vec"
      ],
      "metadata": {
        "id": "fnIkl5GWuibP"
      }
    },
    {
      "cell_type": "markdown",
      "source": [
        "Building a vocab"
      ],
      "metadata": {
        "id": "F5AaoC-IulEm"
      }
    },
    {
      "cell_type": "code",
      "source": [
        "# define vocab \n",
        "vocab = Counter()\n",
        "# tokenise each sentence\n",
        "tokens_list = [(s.split()) for s in train_text .dropna()]\n",
        "# add each sentence to vocab\n",
        "for i in tokens_list:\n",
        "  vocab.update(i)\n",
        "# removing words with a low occurance\n",
        "min_occurance = 2\n",
        "tokens = [k for k,c in vocab.items() if c >= min_occurance]\n",
        "print(len(tokens))"
      ],
      "metadata": {
        "colab": {
          "base_uri": "https://localhost:8080/"
        },
        "id": "_u6k9d5Nul7w",
        "outputId": "317306d1-1eb4-4ff5-b1d2-c62ad5ec49ba"
      },
      "execution_count": 6,
      "outputs": [
        {
          "output_type": "stream",
          "name": "stdout",
          "text": [
            "18947\n"
          ]
        }
      ]
    },
    {
      "cell_type": "code",
      "source": [
        "# save list to file\n",
        "def save_list(lines, filename):\n",
        "\t# convert lines to a single blob of text\n",
        "\tdata = '\\n'.join(lines)\n",
        "\t# open file\n",
        "\tfile = open(filename, 'w')\n",
        "\t# write text\n",
        "\tfile.write(data)\n",
        "\t# close file\n",
        "\tfile.close()\n",
        " \n",
        "# save tokens to a vocabulary file\n",
        "save_list(vocab, '/content/drive/MyDrive/fyp/vocab.txt')"
      ],
      "metadata": {
        "id": "STyJWhTs8Gyp"
      },
      "execution_count": 7,
      "outputs": []
    },
    {
      "cell_type": "code",
      "source": [
        "# load doc into memory\n",
        "def load_doc(filename):\n",
        "\t# open the file as read only\n",
        "\tfile = open(filename, 'r')\n",
        "\t# read all text\n",
        "\ttext = file.read()\n",
        "\t# close the file\n",
        "\tfile.close()\n",
        "\treturn text\n",
        "\n",
        "# load the vocabulary\n",
        "vocab_filename = '/content/drive/MyDrive/fyp/vocab.txt'\n",
        "vocab = load_doc(vocab_filename)\n",
        "vocab = vocab.split()\n",
        "vocab = set(vocab)"
      ],
      "metadata": {
        "id": "3j3vIQZz_FGx"
      },
      "execution_count": 8,
      "outputs": []
    },
    {
      "cell_type": "markdown",
      "source": [
        "Removing out-of-vocab words"
      ],
      "metadata": {
        "id": "IEpbf4R4_KGd"
      }
    },
    {
      "cell_type": "code",
      "source": [
        "# clean each line\n",
        "def clean_line(line, vocab):\n",
        "  tokens = line.split()\n",
        "  # filter out tokens not in vocab\n",
        "  tokens_clean = [w for w in tokens if w in vocab]\n",
        "  return [tokens_clean]\n",
        "\n",
        "# clean entire dataset\n",
        "def process_lines(data, vocab):\n",
        "  lines = list()\n",
        "  for i in data:\n",
        "    line = clean_line(i, vocab)\n",
        "    # add lines to list\n",
        "    lines += line\n",
        "  return lines"
      ],
      "metadata": {
        "id": "WFvD3fHr_K_0"
      },
      "execution_count": 9,
      "outputs": []
    },
    {
      "cell_type": "code",
      "source": [
        "train_clean = process_lines(train_text, vocab)\n",
        "test_clean = process_lines(test_text, vocab)\n"
      ],
      "metadata": {
        "id": "wTUn0pJ__Vdu"
      },
      "execution_count": 12,
      "outputs": []
    },
    {
      "cell_type": "markdown",
      "source": [
        "Training the model"
      ],
      "metadata": {
        "id": "skPCMowFWkZo"
      }
    },
    {
      "cell_type": "code",
      "source": [
        "# set up the parameters of the model\n",
        "model = Word2Vec(size=300, window=10, min_count=1, iter=EPOCHS, seed=SEED)\n",
        "\n",
        "# it builds the vocabulary from a sequence of sentences and thus initialized the model.\n",
        "t = time()\n",
        "model.build_vocab(train_clean, progress_per=1000)\n",
        "print('Time to build vocab: {} mins'.format(round((time() - t) / 60, 2)))\n",
        "\n",
        "# training the model\n",
        "t = time()\n",
        "model.train(train_clean, total_examples=model.corpus_count, epochs=EPOCHS, report_delay=1)\n",
        "print('Time to train the model: {} mins'.format(round((time() - t) / 60, 2)))"
      ],
      "metadata": {
        "colab": {
          "base_uri": "https://localhost:8080/"
        },
        "id": "Z0gcqNilWpS3",
        "outputId": "417a6468-0316-4a16-85e6-4a8468af00e2"
      },
      "execution_count": 13,
      "outputs": [
        {
          "output_type": "stream",
          "name": "stderr",
          "text": [
            "WARNING:gensim.models.word2vec:Each 'sentences' item should be a list of words (usually unicode strings). First item here is instead plain <class 'str'>.\n"
          ]
        },
        {
          "output_type": "stream",
          "name": "stdout",
          "text": [
            "Time to build vocab: 0.06 mins\n",
            "Time to train the model: 0.68 mins\n"
          ]
        }
      ]
    },
    {
      "cell_type": "code",
      "source": [
        "# save model in ASCII (word2vec) format\n",
        "filename = '/content/drive/MyDrive/fyp/embedding_word2vec.txt'\n",
        "model.wv.save_word2vec_format(filename, binary=False)"
      ],
      "metadata": {
        "id": "PCqSfh_kXR7_"
      },
      "execution_count": 16,
      "outputs": []
    }
  ]
}