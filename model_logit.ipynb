{
  "cells": [
    {
      "cell_type": "markdown",
      "metadata": {
        "id": "view-in-github",
        "colab_type": "text"
      },
      "source": [
        "<a href=\"https://colab.research.google.com/github/RavinduKodithuwakku/suicide-thoughts-detection/blob/dev/model_logit.ipynb\" target=\"_parent\"><img src=\"https://colab.research.google.com/assets/colab-badge.svg\" alt=\"Open In Colab\"/></a>"
      ]
    },
    {
      "cell_type": "markdown",
      "metadata": {
        "id": "f0lckIpT1I8y"
      },
      "source": [
        "Logistic Regression"
      ]
    },
    {
      "cell_type": "code",
      "execution_count": null,
      "metadata": {
        "colab": {
          "base_uri": "https://localhost:8080/"
        },
        "id": "8n4mxrUa1N3B",
        "outputId": "f72c8f0d-3030-458c-dfeb-b0ce978a0248"
      },
      "outputs": [
        {
          "output_type": "stream",
          "name": "stdout",
          "text": [
            "Mounted at /content/drive\n"
          ]
        }
      ],
      "source": [
        "from google.colab import drive\n",
        "drive.mount('/content/drive', force_remount=True)"
      ]
    },
    {
      "cell_type": "code",
      "execution_count": null,
      "metadata": {
        "id": "y3KyzQpg1hFZ"
      },
      "outputs": [],
      "source": [
        "import pandas as pd\n",
        "import numpy as np\n",
        "import os\n",
        "\n",
        "from sklearn.model_selection import train_test_split\n",
        "from sklearn.linear_model import LogisticRegression\n",
        "from sklearn.metrics import classification_report, confusion_matrix, recall_score, accuracy_score, f1_score, precision_score\n",
        "from collections import Counter\n",
        "from prettytable import PrettyTable\n",
        "     "
      ]
    },
    {
      "cell_type": "code",
      "execution_count": null,
      "metadata": {
        "id": "H3FhvRC91lEi"
      },
      "outputs": [],
      "source": [
        "SEED = 4222\n",
        "EPOCHS = 5"
      ]
    },
    {
      "cell_type": "code",
      "execution_count": null,
      "metadata": {
        "colab": {
          "base_uri": "https://localhost:8080/",
          "height": 206
        },
        "id": "eHyfJArr1pRB",
        "outputId": "7e4013fd-53ba-445b-b9cd-946dc920ffa3"
      },
      "outputs": [
        {
          "output_type": "execute_result",
          "data": {
            "text/plain": [
              "   class                                               text\n",
              "0      1  sex wife threaten suicide recently leave wife ...\n",
              "1      0  weird not affect compliment come know girl fee...\n",
              "2      0      finally hear bad year swear fuck god annoying\n",
              "3      1                            need help help cry hard\n",
              "4      1  lost hello adam struggle year afraid past year..."
            ],
            "text/html": [
              "\n",
              "  <div id=\"df-e3025e4d-044d-43a5-9c29-6311a1ce420a\">\n",
              "    <div class=\"colab-df-container\">\n",
              "      <div>\n",
              "<style scoped>\n",
              "    .dataframe tbody tr th:only-of-type {\n",
              "        vertical-align: middle;\n",
              "    }\n",
              "\n",
              "    .dataframe tbody tr th {\n",
              "        vertical-align: top;\n",
              "    }\n",
              "\n",
              "    .dataframe thead th {\n",
              "        text-align: right;\n",
              "    }\n",
              "</style>\n",
              "<table border=\"1\" class=\"dataframe\">\n",
              "  <thead>\n",
              "    <tr style=\"text-align: right;\">\n",
              "      <th></th>\n",
              "      <th>class</th>\n",
              "      <th>text</th>\n",
              "    </tr>\n",
              "  </thead>\n",
              "  <tbody>\n",
              "    <tr>\n",
              "      <th>0</th>\n",
              "      <td>1</td>\n",
              "      <td>sex wife threaten suicide recently leave wife ...</td>\n",
              "    </tr>\n",
              "    <tr>\n",
              "      <th>1</th>\n",
              "      <td>0</td>\n",
              "      <td>weird not affect compliment come know girl fee...</td>\n",
              "    </tr>\n",
              "    <tr>\n",
              "      <th>2</th>\n",
              "      <td>0</td>\n",
              "      <td>finally hear bad year swear fuck god annoying</td>\n",
              "    </tr>\n",
              "    <tr>\n",
              "      <th>3</th>\n",
              "      <td>1</td>\n",
              "      <td>need help help cry hard</td>\n",
              "    </tr>\n",
              "    <tr>\n",
              "      <th>4</th>\n",
              "      <td>1</td>\n",
              "      <td>lost hello adam struggle year afraid past year...</td>\n",
              "    </tr>\n",
              "  </tbody>\n",
              "</table>\n",
              "</div>\n",
              "      <button class=\"colab-df-convert\" onclick=\"convertToInteractive('df-e3025e4d-044d-43a5-9c29-6311a1ce420a')\"\n",
              "              title=\"Convert this dataframe to an interactive table.\"\n",
              "              style=\"display:none;\">\n",
              "        \n",
              "  <svg xmlns=\"http://www.w3.org/2000/svg\" height=\"24px\"viewBox=\"0 0 24 24\"\n",
              "       width=\"24px\">\n",
              "    <path d=\"M0 0h24v24H0V0z\" fill=\"none\"/>\n",
              "    <path d=\"M18.56 5.44l.94 2.06.94-2.06 2.06-.94-2.06-.94-.94-2.06-.94 2.06-2.06.94zm-11 1L8.5 8.5l.94-2.06 2.06-.94-2.06-.94L8.5 2.5l-.94 2.06-2.06.94zm10 10l.94 2.06.94-2.06 2.06-.94-2.06-.94-.94-2.06-.94 2.06-2.06.94z\"/><path d=\"M17.41 7.96l-1.37-1.37c-.4-.4-.92-.59-1.43-.59-.52 0-1.04.2-1.43.59L10.3 9.45l-7.72 7.72c-.78.78-.78 2.05 0 2.83L4 21.41c.39.39.9.59 1.41.59.51 0 1.02-.2 1.41-.59l7.78-7.78 2.81-2.81c.8-.78.8-2.07 0-2.86zM5.41 20L4 18.59l7.72-7.72 1.47 1.35L5.41 20z\"/>\n",
              "  </svg>\n",
              "      </button>\n",
              "      \n",
              "  <style>\n",
              "    .colab-df-container {\n",
              "      display:flex;\n",
              "      flex-wrap:wrap;\n",
              "      gap: 12px;\n",
              "    }\n",
              "\n",
              "    .colab-df-convert {\n",
              "      background-color: #E8F0FE;\n",
              "      border: none;\n",
              "      border-radius: 50%;\n",
              "      cursor: pointer;\n",
              "      display: none;\n",
              "      fill: #1967D2;\n",
              "      height: 32px;\n",
              "      padding: 0 0 0 0;\n",
              "      width: 32px;\n",
              "    }\n",
              "\n",
              "    .colab-df-convert:hover {\n",
              "      background-color: #E2EBFA;\n",
              "      box-shadow: 0px 1px 2px rgba(60, 64, 67, 0.3), 0px 1px 3px 1px rgba(60, 64, 67, 0.15);\n",
              "      fill: #174EA6;\n",
              "    }\n",
              "\n",
              "    [theme=dark] .colab-df-convert {\n",
              "      background-color: #3B4455;\n",
              "      fill: #D2E3FC;\n",
              "    }\n",
              "\n",
              "    [theme=dark] .colab-df-convert:hover {\n",
              "      background-color: #434B5C;\n",
              "      box-shadow: 0px 1px 3px 1px rgba(0, 0, 0, 0.15);\n",
              "      filter: drop-shadow(0px 1px 2px rgba(0, 0, 0, 0.3));\n",
              "      fill: #FFFFFF;\n",
              "    }\n",
              "  </style>\n",
              "\n",
              "      <script>\n",
              "        const buttonEl =\n",
              "          document.querySelector('#df-e3025e4d-044d-43a5-9c29-6311a1ce420a button.colab-df-convert');\n",
              "        buttonEl.style.display =\n",
              "          google.colab.kernel.accessAllowed ? 'block' : 'none';\n",
              "\n",
              "        async function convertToInteractive(key) {\n",
              "          const element = document.querySelector('#df-e3025e4d-044d-43a5-9c29-6311a1ce420a');\n",
              "          const dataTable =\n",
              "            await google.colab.kernel.invokeFunction('convertToInteractive',\n",
              "                                                     [key], {});\n",
              "          if (!dataTable) return;\n",
              "\n",
              "          const docLinkHtml = 'Like what you see? Visit the ' +\n",
              "            '<a target=\"_blank\" href=https://colab.research.google.com/notebooks/data_table.ipynb>data table notebook</a>'\n",
              "            + ' to learn more about interactive tables.';\n",
              "          element.innerHTML = '';\n",
              "          dataTable['output_type'] = 'display_data';\n",
              "          await google.colab.output.renderOutput(dataTable, element);\n",
              "          const docLink = document.createElement('div');\n",
              "          docLink.innerHTML = docLinkHtml;\n",
              "          element.appendChild(docLink);\n",
              "        }\n",
              "      </script>\n",
              "    </div>\n",
              "  </div>\n",
              "  "
            ]
          },
          "metadata": {},
          "execution_count": 4
        }
      ],
      "source": [
        "# Load dataset\n",
        "suicide_detection_df = pd.read_csv('/content/drive/MyDrive/fyp/dataset/suicide_detection_full_cleaned.csv', header=0)\n",
        "suicide_detection_df.drop(columns=['text'], axis=1, inplace=True)\n",
        "suicide_detection_df = suicide_detection_df.rename(columns={\"cleaned_text\": \"text\"})\n",
        "classes = {\"suicide\": 1, \"non-suicide\": 0}\n",
        "suicide_detection_df = suicide_detection_df.replace({\"class\": classes})\n",
        "suicide_detection_df.head()"
      ]
    },
    {
      "cell_type": "code",
      "execution_count": null,
      "metadata": {
        "id": "KpMnYv0P2Fxf"
      },
      "outputs": [],
      "source": [
        "# Split dataset into train, validation and test sets\n",
        "train_text, test_text, train_labels, test_labels = train_test_split(suicide_detection_df['text'], suicide_detection_df['class'],\n",
        "                                                                    random_state=SEED,\n",
        "                                                                    test_size=0.2,\n",
        "                                                                    stratify=suicide_detection_df['class'])"
      ]
    },
    {
      "cell_type": "code",
      "execution_count": null,
      "metadata": {
        "colab": {
          "base_uri": "https://localhost:8080/"
        },
        "id": "cQqKCS1KgF30",
        "outputId": "5f9809e3-11f6-4e83-b496-50935af6bb80"
      },
      "outputs": [
        {
          "name": "stdout",
          "output_type": "stream",
          "text": [
            "78485     1\n",
            "231462    1\n",
            "207570    1\n",
            "141033    1\n",
            "34959     1\n",
            "         ..\n",
            "148915    0\n",
            "14105     0\n",
            "130592    0\n",
            "209921    0\n",
            "6643      1\n",
            "Name: class, Length: 46415, dtype: int64\n"
          ]
        }
      ],
      "source": [
        "#print(test_labels)\n"
      ]
    },
    {
      "cell_type": "markdown",
      "metadata": {
        "id": "4ItC9KTn2IlS"
      },
      "source": [
        "Import vocab"
      ]
    },
    {
      "cell_type": "code",
      "execution_count": null,
      "metadata": {
        "id": "fYb4pTs82KGF"
      },
      "outputs": [],
      "source": [
        "# load doc into memory\n",
        "def load_doc(filename):\n",
        "\t# open the file as read only\n",
        "\tfile = open(filename, 'r')\n",
        "\t# read all text\n",
        "\ttext = file.read()\n",
        "\t# close the file\n",
        "\tfile.close()\n",
        "\treturn text\n",
        "\n",
        "# load the vocabulary\n",
        "vocab_filename = '/content/drive/MyDrive/fyp/vocab.txt'\n",
        "vocab = load_doc(vocab_filename)\n",
        "vocab = vocab.split()\n",
        "vocab = set(vocab)"
      ]
    },
    {
      "cell_type": "markdown",
      "metadata": {
        "id": "hATPQm842hRr"
      },
      "source": [
        "Import Embeddings"
      ]
    },
    {
      "cell_type": "code",
      "execution_count": null,
      "metadata": {
        "id": "dqqkSzFs2iFb"
      },
      "outputs": [],
      "source": [
        "# load embedding as a dict\n",
        "def load_embedding(filename):\n",
        "\t# load embedding into memory, skip first line\n",
        "\tfile = open(filename,'r')\n",
        "\tlines = file.readlines()[1:]\n",
        "\tfile.close()\n",
        "\t# create a map of words to vectors\n",
        "\tembedding = dict()\n",
        "\tfor line in lines:\n",
        "\t\tparts = line.split()\n",
        "\t\t# key is string word, value is numpy array for vector\n",
        "\t\tembedding[parts[0]] = np.asarray(parts[1:], dtype='float32')\n",
        "\treturn embedding"
      ]
    },
    {
      "cell_type": "markdown",
      "metadata": {
        "id": "NQf_bwXr2nQK"
      },
      "source": [
        "Removing out of vocab words"
      ]
    },
    {
      "cell_type": "code",
      "execution_count": null,
      "metadata": {
        "id": "2PZI6MG82pkT"
      },
      "outputs": [],
      "source": [
        "# clean each line\n",
        "def clean_line(line, vocab):\n",
        "  tokens_clean = []\n",
        "  try:  \n",
        "    tokens = line.split()\n",
        "    # filter out tokens not in vocab\n",
        "    tokens_clean = [w for w in tokens if w in vocab]\n",
        "  except  Exception as e:\n",
        "    #print(line) \n",
        "    pass\n",
        "\n",
        "  return [tokens_clean]\n",
        "\n",
        "# clean entire dataset\n",
        "def process_lines(data, vocab):\n",
        "  #print(data,vocab)\n",
        "  \n",
        "  lines = list()\n",
        "  for i in data:\n",
        "    line = clean_line(i, vocab)\n",
        "    # add lines to list\n",
        "    lines += line\n",
        "  return lines"
      ]
    },
    {
      "cell_type": "markdown",
      "metadata": {
        "id": "DucTH2MEINHc"
      },
      "source": [
        "Document Vector function"
      ]
    },
    {
      "cell_type": "code",
      "execution_count": 16,
      "metadata": {
        "id": "uC3dLOlRINr7"
      },
      "outputs": [],
      "source": [
        "def document_vector(doc, embeddings):\n",
        "    sentence = list()\n",
        "    \"\"\"Create document vectors by averaging word vectors. Remove out-of-vocabulary words.\"\"\"\n",
        "    doc = [word for word in doc if word in embeddings.keys()]\n",
        "    for i in doc:\n",
        "        word = embeddings[i]\n",
        "        sentence.append(word)\n",
        "    if len(sentence) == 0:\n",
        "        return np.zeros(embeddings[next(iter(embeddings))].shape)\n",
        "    return np.mean(sentence, axis=0)"
      ]
    },
    {
      "cell_type": "code",
      "execution_count": null,
      "metadata": {
        "id": "LAD_KdGCIWBk"
      },
      "outputs": [],
      "source": [
        "# function for all the data\n",
        "def all_documents(df, labels_ori, embeddings):\n",
        "  vec = list()\n",
        "  labels = list()\n",
        "  for i in range(len(df)):\n",
        "    #print(df[i])\n",
        "    if len(df[i]) == 0:\n",
        "      continue\n",
        "    else:\n",
        "      vec.append(document_vector(df[i], embeddings))\n",
        "      labels.append(labels_ori.values[i])\n",
        "  return vec, labels\n",
        "     "
      ]
    },
    {
      "cell_type": "markdown",
      "metadata": {
        "id": "qQhezyMHIyNt"
      },
      "source": [
        "Word2Vec"
      ]
    },
    {
      "cell_type": "code",
      "execution_count": null,
      "metadata": {
        "id": "pIN8bp5zIy8F"
      },
      "outputs": [],
      "source": [
        "word2vec = load_embedding('/content/drive/MyDrive/fyp/embedding_word2vec.txt')"
      ]
    },
    {
      "cell_type": "code",
      "execution_count": 22,
      "metadata": {
        "id": "bs5HWTIZI-OG"
      },
      "outputs": [],
      "source": [
        "train_clean = process_lines(train_text, vocab)\n",
        "#print(train_clean[:10])\n",
        "test_clean = process_lines(test_text, vocab)\n",
        "#print(test_clean[:10])\n",
        "train_vec, train_labels_new = all_documents(train_clean, train_labels,word2vec)\n",
        "#print(train_vec[:10],train_labels_new[:10])\n",
        "test_vec, test_labels_new = all_documents(test_clean, test_labels, word2vec)\n",
        "#print(test_vec[:10],test_labels_new[:10])\n"
      ]
    },
    {
      "cell_type": "code",
      "execution_count": null,
      "metadata": {
        "id": "ZfyUzaR_HSG-"
      },
      "outputs": [],
      "source": [
        "#train_vec = np.array(train_vec)\n",
        "#train_vec = train_vec.reshape(-1, 1)"
      ]
    },
    {
      "cell_type": "code",
      "execution_count": 18,
      "metadata": {
        "colab": {
          "base_uri": "https://localhost:8080/"
        },
        "id": "ZLbm3BhJHvWv",
        "outputId": "3f22456e-7109-4449-f650-48d735755b60"
      },
      "outputs": [
        {
          "output_type": "execute_result",
          "data": {
            "text/plain": [
              "LogisticRegression()"
            ]
          },
          "metadata": {},
          "execution_count": 18
        }
      ],
      "source": [
        "lr = LogisticRegression()\n",
        "lr.fit(train_vec, train_labels_new)"
      ]
    },
    {
      "cell_type": "code",
      "source": [
        "y_train_pred = lr.predict(train_vec)\n",
        "print('Training set accuracy %s' % accuracy_score(train_labels_new, y_train_pred))\n",
        "print(classification_report(train_labels_new, y_train_pred))"
      ],
      "metadata": {
        "id": "Hnd41mb-rnfa",
        "colab": {
          "base_uri": "https://localhost:8080/"
        },
        "outputId": "dadcf457-db41-49d8-fc19-db89c39cc5ae"
      },
      "execution_count": 19,
      "outputs": [
        {
          "output_type": "stream",
          "name": "stdout",
          "text": [
            "Training set accuracy 0.5018326074770385\n",
            "              precision    recall  f1-score   support\n",
            "\n",
            "           0       0.50      0.99      0.67     92730\n",
            "           1       0.58      0.01      0.03     92798\n",
            "\n",
            "    accuracy                           0.50    185528\n",
            "   macro avg       0.54      0.50      0.35    185528\n",
            "weighted avg       0.54      0.50      0.35    185528\n",
            "\n"
          ]
        }
      ]
    },
    {
      "cell_type": "code",
      "source": [
        "y_test_pred = lr.predict(test_vec)\n",
        "print('Test set accuracy %s' % accuracy_score(test_labels_new, y_test_pred))\n",
        "print(classification_report(test_labels_new, y_test_pred))"
      ],
      "metadata": {
        "id": "5G_NwBawroO6",
        "colab": {
          "base_uri": "https://localhost:8080/"
        },
        "outputId": "5665b946-958d-4ead-ecc3-80889b760f9b"
      },
      "execution_count": 20,
      "outputs": [
        {
          "output_type": "stream",
          "name": "stdout",
          "text": [
            "Test set accuracy 0.5020481200413935\n",
            "              precision    recall  f1-score   support\n",
            "\n",
            "           0       0.50      0.99      0.67     23181\n",
            "           1       0.60      0.01      0.03     23203\n",
            "\n",
            "    accuracy                           0.50     46384\n",
            "   macro avg       0.55      0.50      0.35     46384\n",
            "weighted avg       0.55      0.50      0.35     46384\n",
            "\n"
          ]
        }
      ]
    },
    {
      "cell_type": "code",
      "source": [
        "word2vec_test_accuracy_score = accuracy_score(test_labels_new, y_test_pred)\n",
        "word2vec_test_precision_score = precision_score(test_labels_new, y_test_pred)\n",
        "word2vec_test_recall_score = recall_score(test_labels_new, y_test_pred)\n",
        "word2vec_test_f1_score = f1_score(test_labels_new, y_test_pred)"
      ],
      "metadata": {
        "id": "8YbVSjD7rq9a"
      },
      "execution_count": 21,
      "outputs": []
    },
    {
      "cell_type": "markdown",
      "source": [
        "Glove"
      ],
      "metadata": {
        "id": "AhWZjGTH5TUm"
      }
    },
    {
      "cell_type": "code",
      "source": [
        "# load glove embedding from file\n",
        "raw_embedding_glove = load_embedding('/content/drive/MyDrive/fyp/glove.twitter.27B.200d.txt')"
      ],
      "metadata": {
        "id": "oKLNo3UT5U98"
      },
      "execution_count": 26,
      "outputs": []
    },
    {
      "cell_type": "code",
      "source": [
        "train_clean_glove = process_lines(train_text, raw_embedding_glove.keys())\n",
        "test_clean_glove = process_lines(test_text, raw_embedding_glove.keys())\n",
        "train_vec_glove, train_labels_glove_new = all_documents(train_clean_glove, train_labels, raw_embedding_glove)\n",
        "test_vec_glove, test_labels_glove_new = all_documents(test_clean_glove, test_labels, raw_embedding_glove)"
      ],
      "metadata": {
        "id": "rbmLE5mi61_J"
      },
      "execution_count": 27,
      "outputs": []
    },
    {
      "cell_type": "code",
      "source": [
        "lr = LogisticRegression()\n",
        "lr.fit(train_vec_glove, train_labels_glove_new)"
      ],
      "metadata": {
        "colab": {
          "base_uri": "https://localhost:8080/"
        },
        "id": "nxiBGBA97r-i",
        "outputId": "604b26d6-5d36-4f5c-a900-0ed839450727"
      },
      "execution_count": 28,
      "outputs": [
        {
          "output_type": "stream",
          "name": "stderr",
          "text": [
            "/usr/local/lib/python3.8/dist-packages/sklearn/linear_model/_logistic.py:814: ConvergenceWarning: lbfgs failed to converge (status=1):\n",
            "STOP: TOTAL NO. of ITERATIONS REACHED LIMIT.\n",
            "\n",
            "Increase the number of iterations (max_iter) or scale the data as shown in:\n",
            "    https://scikit-learn.org/stable/modules/preprocessing.html\n",
            "Please also refer to the documentation for alternative solver options:\n",
            "    https://scikit-learn.org/stable/modules/linear_model.html#logistic-regression\n",
            "  n_iter_i = _check_optimize_result(\n"
          ]
        },
        {
          "output_type": "execute_result",
          "data": {
            "text/plain": [
              "LogisticRegression()"
            ]
          },
          "metadata": {},
          "execution_count": 28
        }
      ]
    },
    {
      "cell_type": "code",
      "source": [
        "y_train_pred = lr.predict(train_vec_glove)\n",
        "print('Training set accuracy %s' % accuracy_score(train_labels_glove_new, y_train_pred))\n",
        "print(classification_report(train_labels_glove_new, y_train_pred))"
      ],
      "metadata": {
        "colab": {
          "base_uri": "https://localhost:8080/"
        },
        "id": "OknPPD-e8TSI",
        "outputId": "0ec2aae3-c62b-40b8-a14e-ad1bac027274"
      },
      "execution_count": 32,
      "outputs": [
        {
          "output_type": "stream",
          "name": "stdout",
          "text": [
            "Training set accuracy 0.879904048299283\n",
            "              precision    recall  f1-score   support\n",
            "\n",
            "           0       0.90      0.85      0.88     92719\n",
            "           1       0.86      0.91      0.88     92791\n",
            "\n",
            "    accuracy                           0.88    185510\n",
            "   macro avg       0.88      0.88      0.88    185510\n",
            "weighted avg       0.88      0.88      0.88    185510\n",
            "\n"
          ]
        }
      ]
    },
    {
      "cell_type": "code",
      "source": [
        "y_test_pred = lr.predict(test_vec_glove)\n",
        "print('Training set accuracy %s' % accuracy_score(test_labels_glove_new, y_test_pred))\n",
        "print(classification_report(test_labels_glove_new, y_test_pred))"
      ],
      "metadata": {
        "colab": {
          "base_uri": "https://localhost:8080/"
        },
        "id": "uqerrrkL8W5B",
        "outputId": "9e7b8679-bae8-4a28-c30d-02e76003cf65"
      },
      "execution_count": 33,
      "outputs": [
        {
          "output_type": "stream",
          "name": "stdout",
          "text": [
            "Training set accuracy 0.8782691188202065\n",
            "              precision    recall  f1-score   support\n",
            "\n",
            "           0       0.90      0.85      0.87     23179\n",
            "           1       0.86      0.90      0.88     23202\n",
            "\n",
            "    accuracy                           0.88     46381\n",
            "   macro avg       0.88      0.88      0.88     46381\n",
            "weighted avg       0.88      0.88      0.88     46381\n",
            "\n"
          ]
        }
      ]
    },
    {
      "cell_type": "code",
      "source": [
        "glove_test_accuracy_score = accuracy_score(test_labels_glove_new, y_test_pred)\n",
        "glove_test_precision_score = precision_score(test_labels_glove_new, y_test_pred)\n",
        "glove_test_recall_score = recall_score(test_labels_glove_new, y_test_pred)\n",
        "glove_test_f1_score = f1_score(test_labels_glove_new, y_test_pred)"
      ],
      "metadata": {
        "id": "iRJl5-jL8gzJ"
      },
      "execution_count": 34,
      "outputs": []
    },
    {
      "cell_type": "markdown",
      "source": [
        "Summary"
      ],
      "metadata": {
        "id": "jmkQnz-V8mv5"
      }
    },
    {
      "cell_type": "code",
      "source": [
        "table = PrettyTable()\n",
        "table.field_names = ['Model - Logistic Regression', 'Accuracy', 'Precision', 'Recall', 'F1 Score']\n",
        "\n",
        "table.add_row(['Word2Vec', \n",
        "               format(word2vec_test_accuracy_score, '.4f'), \n",
        "               format(word2vec_test_precision_score, '.4f'), \n",
        "               format(word2vec_test_recall_score, '.4f'), \n",
        "               format(word2vec_test_f1_score, '.4f')])\n",
        "\n",
        "table.add_row(['GloVe', \n",
        "               format(glove_test_accuracy_score, '.4f'), \n",
        "               format(glove_test_precision_score, '.4f'), \n",
        "               format(glove_test_recall_score, '.4f'), \n",
        "               format(glove_test_f1_score, '.4f')])\n",
        "print(table)"
      ],
      "metadata": {
        "colab": {
          "base_uri": "https://localhost:8080/"
        },
        "id": "5LHScU7s8nPC",
        "outputId": "87b08e8d-cd62-4c96-d5cd-2d1edee5e7d7"
      },
      "execution_count": 35,
      "outputs": [
        {
          "output_type": "stream",
          "name": "stdout",
          "text": [
            "+-----------------------------+----------+-----------+--------+----------+\n",
            "| Model - Logistic Regression | Accuracy | Precision | Recall | F1 Score |\n",
            "+-----------------------------+----------+-----------+--------+----------+\n",
            "|           Word2Vec          |  0.5020  |   0.5978  | 0.0140 |  0.0273  |\n",
            "|            GloVe            |  0.8783  |   0.8594  | 0.9047 |  0.8815  |\n",
            "+-----------------------------+----------+-----------+--------+----------+\n"
          ]
        }
      ]
    }
  ],
  "metadata": {
    "colab": {
      "provenance": [],
      "authorship_tag": "ABX9TyMmjRdpMVUJt/cof89/urVh",
      "include_colab_link": true
    },
    "kernelspec": {
      "display_name": "Python 3",
      "name": "python3"
    },
    "language_info": {
      "name": "python"
    }
  },
  "nbformat": 4,
  "nbformat_minor": 0
}